{
 "cells": [
  {
   "cell_type": "code",
   "execution_count": 4,
   "id": "fec5fd21",
   "metadata": {},
   "outputs": [
    {
     "name": "stdout",
     "output_type": "stream",
     "text": [
      " * Serving Flask app '__main__'\n",
      " * Debug mode: on\n"
     ]
    },
    {
     "name": "stderr",
     "output_type": "stream",
     "text": [
      "WARNING: This is a development server. Do not use it in a production deployment. Use a production WSGI server instead.\n",
      " * Running on http://127.0.0.1:5000\n",
      "Press CTRL+C to quit\n",
      " * Restarting with stat\n"
     ]
    },
    {
     "ename": "SystemExit",
     "evalue": "1",
     "output_type": "error",
     "traceback": [
      "An exception has occurred, use %tb to see the full traceback.\n",
      "\u001b[1;31mSystemExit\u001b[0m\u001b[1;31m:\u001b[0m 1\n"
     ]
    }
   ],
   "source": [
    "\n",
    "import os\n",
    "import numpy as np\n",
    "from flask import Flask, request, render_template, redirect, url_for, session\n",
    "from tensorflow.keras.models import load_model\n",
    "from tensorflow.keras.preprocessing import image\n",
    "from werkzeug.utils import secure_filename\n",
    "from flask import Flask, render_template, request, url_for, send_from_directory\n",
    "\n",
    "app = Flask(__name__)\n",
    "app.secret_key = 'supersecretkey'  # Required for session usage\n",
    "\n",
    "MODEL_PATH = 'model-250.h5'\n",
    "model = load_model(MODEL_PATH)\n",
    "\n",
    "class_labels = ['12K', '4K', '8K', 'Control']  # Replace with actual class names\n",
    "\n",
    "UPLOAD_FOLDER = 'uploads'\n",
    "UPLOAD_FOLDER = os.path.join('static', 'uploads')\n",
    "os.makedirs(UPLOAD_FOLDER, exist_ok=True)\n",
    "app.config['UPLOAD_FOLDER'] = UPLOAD_FOLDER\n",
    "\n",
    "@app.route('/')\n",
    "def index():\n",
    "    return render_template('index.html')\n",
    "\n",
    "@app.route('/predict', methods=['POST'])\n",
    "def predict():\n",
    "    if 'file' not in request.files:\n",
    "        return 'No file part'\n",
    "    file = request.files['file']\n",
    "    if file.filename == '':\n",
    "        return 'No selected file'\n",
    "    filename = secure_filename(file.filename)\n",
    "    filepath = os.path.join(app.config['UPLOAD_FOLDER'], filename)\n",
    "    file.save(filepath)\n",
    "\n",
    "    # Load and preprocess the image\n",
    "    img = image.load_img(filepath, target_size=(224, 224))\n",
    "    img_array = image.img_to_array(img) / 255.0\n",
    "    img_array = np.expand_dims(img_array, axis=0)\n",
    "\n",
    "    # Predict\n",
    "    preds = model.predict(img_array)\n",
    "    confidence_score = float(np.max(preds[0]))\n",
    "    confidence = round(confidence_score * 100, 2)\n",
    "\n",
    "    if confidence_score < 0.3:  # adjust threshold as needed\n",
    "        class_name = \"Not a root image\"\n",
    "    else:\n",
    "        class_idx = np.argmax(preds[0])\n",
    "        class_name = class_labels[class_idx]\n",
    "\n",
    "\n",
    "    # Store in session for later use\n",
    "    session['label'] = class_name\n",
    "    session['confidence'] = confidence\n",
    "    session['filename'] = filename\n",
    "\n",
    "    return redirect(url_for('loading'))\n",
    "\n",
    "@app.route('/uploads/<filename>')\n",
    "def uploaded_file(filename):\n",
    "    return send_from_directory(app.config['UPLOAD_FOLDER'], filename)\n",
    "\n",
    "@app.route('/loading')\n",
    "def loading():\n",
    "    return render_template('loading.html')\n",
    "\n",
    "@app.route('/result')\n",
    "def result():\n",
    "    label = session.get('label', 'Unknown')\n",
    "    confidence = session.get('confidence', 0.0)\n",
    "    filename = session.get('filename', None)\n",
    "    return render_template('result.html', label=label, confidence=confidence, filename=filename)\n",
    "\n",
    "if __name__ == '__main__':\n",
    "    app.run(debug=True)\n"
   ]
  },
  {
   "cell_type": "code",
   "execution_count": null,
   "id": "4d8cbfce",
   "metadata": {},
   "outputs": [],
   "source": []
  },
  {
   "cell_type": "code",
   "execution_count": null,
   "id": "4288b0b8",
   "metadata": {},
   "outputs": [],
   "source": []
  }
 ],
 "metadata": {
  "kernelspec": {
   "display_name": "Dr37",
   "language": "python",
   "name": "python3"
  },
  "language_info": {
   "codemirror_mode": {
    "name": "ipython",
    "version": 3
   },
   "file_extension": ".py",
   "mimetype": "text/x-python",
   "name": "python",
   "nbconvert_exporter": "python",
   "pygments_lexer": "ipython3",
   "version": "3.7.12"
  }
 },
 "nbformat": 4,
 "nbformat_minor": 5
}
